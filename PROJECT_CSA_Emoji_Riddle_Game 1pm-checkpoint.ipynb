{
 "cells": [
  {
   "cell_type": "code",
   "execution_count": 1,
   "id": "e75fb4fa-d906-499a-a777-2fbf373b703c",
   "metadata": {},
   "outputs": [
    {
     "name": "stdout",
     "output_type": "stream",
     "text": [
      "\n",
      "--- Emoji Riddle Game ---\n",
      "1. Start the Emoji Riddle Game\n",
      "2. Exit\n"
     ]
    },
    {
     "name": "stdin",
     "output_type": "stream",
     "text": [
      "Choose an option (1 or 2):  1\n"
     ]
    },
    {
     "name": "stdout",
     "output_type": "stream",
     "text": [
      "\n",
      "🎮 Welcome to the Emoji Riddle Game!\n",
      "👥 This game is for 2 players.\n",
      "✨ Get ready to guess the meaning behind emojis and have fun!\n",
      "\n"
     ]
    },
    {
     "name": "stdin",
     "output_type": "stream",
     "text": [
      "How many rounds would you like to play?:  1\n",
      "Enter player 1's name:  1\n",
      "Enter player 2's name:  1\n"
     ]
    },
    {
     "name": "stdout",
     "output_type": "stream",
     "text": [
      "⚠️ Same name detected. Second player will be called '1 (2)'\n",
      "\n",
      "🎯 Round 1 of 1\n",
      "🔤 Sentence: I had 🍵 and 🍞 for breakfast, with a side of 🍎 and 🍌.\n",
      "\n",
      "1, what does '🍵' mean?\n"
     ]
    },
    {
     "name": "stdin",
     "output_type": "stream",
     "text": [
      "Your answer:  1\n"
     ]
    },
    {
     "name": "stdout",
     "output_type": "stream",
     "text": [
      "❌ Incorrect. The correct answer was 'tea'.\n",
      "\n",
      "1 (2), what does '🍞' mean?\n"
     ]
    },
    {
     "name": "stdin",
     "output_type": "stream",
     "text": [
      "Your answer:  1\n"
     ]
    },
    {
     "name": "stdout",
     "output_type": "stream",
     "text": [
      "❌ Incorrect. The correct answer was 'bread'.\n",
      "\n",
      "1, what does '🍎' mean?\n"
     ]
    },
    {
     "name": "stdin",
     "output_type": "stream",
     "text": [
      "Your answer:  5\n"
     ]
    },
    {
     "name": "stdout",
     "output_type": "stream",
     "text": [
      "❌ Incorrect. The correct answer was 'apple'.\n",
      "\n",
      "1 (2), what does '🍌' mean?\n"
     ]
    },
    {
     "name": "stdin",
     "output_type": "stream",
     "text": [
      "Your answer:  2\n"
     ]
    },
    {
     "name": "stdout",
     "output_type": "stream",
     "text": [
      "❌ Incorrect. The correct answer was 'banana'.\n",
      "\n",
      "🏁 Game Over! Final Scores:\n",
      "1: 0 point(s)\n",
      "1 (2): 0 point(s)\n",
      "\n",
      "🤝 It's a tie!\n",
      "\n",
      " 🤗🎮 Thanks for playing! See you next time!\n",
      "\n",
      "\n",
      "--- Emoji Riddle Game ---\n",
      "1. Start the Emoji Riddle Game\n",
      "2. Exit\n"
     ]
    },
    {
     "name": "stdin",
     "output_type": "stream",
     "text": [
      "Choose an option (1 or 2):  5\n"
     ]
    },
    {
     "name": "stdout",
     "output_type": "stream",
     "text": [
      "Invalid choice. Please enter 1 or 2\n",
      "\n",
      "--- Emoji Riddle Game ---\n",
      "1. Start the Emoji Riddle Game\n",
      "2. Exit\n"
     ]
    },
    {
     "name": "stdin",
     "output_type": "stream",
     "text": [
      "Choose an option (1 or 2):  5\n"
     ]
    },
    {
     "name": "stdout",
     "output_type": "stream",
     "text": [
      "Invalid choice. Please enter 1 or 2\n",
      "\n",
      "--- Emoji Riddle Game ---\n",
      "1. Start the Emoji Riddle Game\n",
      "2. Exit\n"
     ]
    },
    {
     "name": "stdin",
     "output_type": "stream",
     "text": [
      "Choose an option (1 or 2):  5\n"
     ]
    },
    {
     "name": "stdout",
     "output_type": "stream",
     "text": [
      "Invalid choice. Please enter 1 or 2\n",
      "\n",
      "--- Emoji Riddle Game ---\n",
      "1. Start the Emoji Riddle Game\n",
      "2. Exit\n"
     ]
    },
    {
     "name": "stdin",
     "output_type": "stream",
     "text": [
      "Choose an option (1 or 2):  5\n"
     ]
    },
    {
     "name": "stdout",
     "output_type": "stream",
     "text": [
      "Invalid choice. Please enter 1 or 2\n",
      "\n",
      "--- Emoji Riddle Game ---\n",
      "1. Start the Emoji Riddle Game\n",
      "2. Exit\n"
     ]
    },
    {
     "name": "stdin",
     "output_type": "stream",
     "text": [
      "Choose an option (1 or 2):  5\n"
     ]
    },
    {
     "name": "stdout",
     "output_type": "stream",
     "text": [
      "Invalid choice. Please enter 1 or 2\n",
      "\n",
      "--- Emoji Riddle Game ---\n",
      "1. Start the Emoji Riddle Game\n",
      "2. Exit\n"
     ]
    },
    {
     "name": "stdin",
     "output_type": "stream",
     "text": [
      "Choose an option (1 or 2):  5\n"
     ]
    },
    {
     "name": "stdout",
     "output_type": "stream",
     "text": [
      "Invalid choice. Please enter 1 or 2\n",
      "\n",
      "--- Emoji Riddle Game ---\n",
      "1. Start the Emoji Riddle Game\n",
      "2. Exit\n"
     ]
    },
    {
     "name": "stdin",
     "output_type": "stream",
     "text": [
      "Choose an option (1 or 2):  5\n"
     ]
    },
    {
     "name": "stdout",
     "output_type": "stream",
     "text": [
      "Invalid choice. Please enter 1 or 2\n",
      "\n",
      "--- Emoji Riddle Game ---\n",
      "1. Start the Emoji Riddle Game\n",
      "2. Exit\n"
     ]
    },
    {
     "name": "stdin",
     "output_type": "stream",
     "text": [
      "Choose an option (1 or 2):  5\n"
     ]
    },
    {
     "name": "stdout",
     "output_type": "stream",
     "text": [
      "Invalid choice. Please enter 1 or 2\n",
      "\n",
      "--- Emoji Riddle Game ---\n",
      "1. Start the Emoji Riddle Game\n",
      "2. Exit\n"
     ]
    },
    {
     "name": "stdin",
     "output_type": "stream",
     "text": [
      "Choose an option (1 or 2):  2\n"
     ]
    },
    {
     "name": "stdout",
     "output_type": "stream",
     "text": [
      "\n",
      "Goodbye! 👋\n"
     ]
    }
   ],
   "source": [
    "# Emoji Riddle Game by Edmond Didier Medongou Tejiogho\n",
    "\n",
    "import random\n",
    "\n",
    "# Predefined list of emoji sentences and mappings\n",
    "emoji_hint_sentences = [\n",
    "    {\"sentence\": \"I ❤️ 👨‍💻\", \"emoji_to_word\": {\"❤️\": \"love\", \"👨‍💻\": \"coding\"}},\n",
    "    {\"sentence\": \"🌞 and ☕ make me feel 😊 and 😎\", \"emoji_to_word\": {\"🌞\": \"sun\", \"☕\": \"coffee\", \"😊\": \"happy\", \"😎\": \"cool\"}},\n",
    "    {\"sentence\": \"Wake up routine: leave the 🛏️ after 😴, greet the 🌞, sip the ☕.\", \"emoji_to_word\": {\"🛏️\": \"bed\", \"😴\": \"sleep\", \"🌞\": \"sun\", \"☕\": \"coffee\"}},\n",
    "    {\"sentence\": \"Give me 🔥🍕 and 🎵, and I’ll 💃 all night!\", \"emoji_to_word\": {\"🔥\": \"hot\", \"🍕\": \"pizza\", \"🎵\": \"music\", \"💃\": \"dance\"}},\n",
    "    {\"sentence\": \"The 🐶 and 🐱 just wanted to say 👋 to the 🌍.\", \"emoji_to_word\": {\"👋\": \"hello\", \"🌍\": \"world\", \"🐶\": \"dog\", \"🐱\": \"cat\"}},\n",
    "    {\"sentence\": \"I had 🍵 and 🍞 for breakfast, with a side of 🍎 and 🍌.\", \"emoji_to_word\": {\"🍵\": \"tea\", \"🍞\": \"bread\", \"🍎\": \"apple\", \"🍌\": \"banana\"}},\n",
    "    {\"sentence\": \"I love to 📖 on the 🛋️ before falling asleep 😴 under the 🌌.\", \"emoji_to_word\": {\"📖\": \"book\", \"🛋️\": \"sofa\", \"😴\": \"sleep\", \"💤\": \"zzz\"}},\n",
    "    {\"sentence\": \"What’s a birthday without 🎁🎂 and some 🎉🎊?\", \"emoji_to_word\": {\"🎁\": \"gift\", \"🎂\": \"cake\", \"🎉\": \"party\", \"🎊\": \"congratulations\"}},\n",
    "    {\"sentence\": \"A full day of 📐 drafting and 🏗️ site visits, now it’s time to relax 🏠 with my 📱.\", \"emoji_to_word\": {\"📐\": \"design\", \"🏗️\": \"construction\", \"🏠\": \"home\", \"📱\": \"phone\"}},\n",
    "    {\"sentence\": \"Chilling by the 🏖️ under the ☀️ with 🍦 and a soft 🥤 in hand.\", \"emoji_to_word\": {\"🏖️\": \"beach\", \"☀️\": \"sun\", \"🍦\": \"ice cream\", \"🥤\": \"drink\"}}]\n",
    "\n",
    "def emoji_riddle_game():\n",
    "    print(\"\\n🎮 Welcome to the Emoji Riddle Game!\")\n",
    "    print(\"👥 This game is for 2 players.\")\n",
    "    print(\"✨ Get ready to guess the meaning behind emojis and have fun!\\n\")\n",
    "    \n",
    "    # Get number of rounds from players\n",
    "    while True:\n",
    "        rounds_input = input(\"How many rounds would you like to play?: \").strip()\n",
    "        if rounds_input.isdigit() and int(rounds_input) > 0:\n",
    "            total_number_of_rounds = int(rounds_input)\n",
    "            break\n",
    "        else:\n",
    "            print(\"❌ Please enter a valid positive integer: \")\n",
    "\n",
    "    # Initialize scores\n",
    "    scores = {\"Player 1\": 0, \"Player 2\": 0}\n",
    "    player1 = input(\"Enter player 1's name: \").strip().title()\n",
    "    if not player1:\n",
    "        player1 = \"Player 1\"\n",
    "\n",
    "    player2 = input(\"Enter player 2's name: \").strip().title()\n",
    "    if not player2:\n",
    "        player2 = \"Player 2\"\n",
    "\n",
    "    if player1 == player2:\n",
    "        player2 += \" (2)\"\n",
    "        print(f\"⚠️ Same name detected. Second player will be called '{player2}'\")\n",
    "\n",
    "    # Now initialize scores after names are defined\n",
    "    scores = {player1: 0, player2: 0}\n",
    "    players = [player1, player2]\n",
    "    current_player_index = 0\n",
    "\n",
    "    used_hint_sentences = []\n",
    "\n",
    "    for round_num in range(1, total_number_of_rounds + 1):\n",
    "        print(f\"\\n🎯 Round {round_num} of {total_number_of_rounds}\")\n",
    "\n",
    "        # Randomly select a new emoji sentence\n",
    "        available_hint_sentences = [q for q in emoji_hint_sentences if q not in used_hint_sentences]\n",
    "        if not available_hint_sentences:\n",
    "            print(\"No more unique questions left!\")\n",
    "            break\n",
    "\n",
    "        question_sentence = random.choice(available_hint_sentences)\n",
    "        used_hint_sentences.append(question_sentence)\n",
    "\n",
    "        print(f\"🔤 Sentence: {question_sentence['sentence']}\")\n",
    "\n",
    "        # Go through each emoji in the sentence\n",
    "        for emoji in question_sentence[\"emoji_to_word\"]:\n",
    "            correct_word = question_sentence[\"emoji_to_word\"][emoji]\n",
    "\n",
    "            current_player = players[current_player_index]\n",
    "            print(f\"\\n{current_player}, what does '{emoji}' mean?\")\n",
    "            guess = input(\"Your answer: \").strip().lower()\n",
    "\n",
    "            if guess == correct_word:\n",
    "                print(\"✅ Correct!\")\n",
    "                scores[current_player] += 1\n",
    "            else:\n",
    "                print(f\"❌ Incorrect. The correct answer was '{correct_word}'.\")\n",
    "\n",
    "            # Switch to the other player\n",
    "            current_player_index = (current_player_index + 1) % 2\n",
    "\n",
    "    # Final results\n",
    "    print(\"\\n🏁 Game Over! Final Scores:\")\n",
    "    for player, score in scores.items():\n",
    "        print(f\"{player}: {score} point(s)\")\n",
    "\n",
    "    # Determine winner\n",
    "    if scores[player1] > scores[player2]:\n",
    "        print(f\"🎉 {player1} wins!\")\n",
    "    elif scores[player2] > scores[player1]:\n",
    "        print(f\"🎉 {player2} wins!\")\n",
    "    else:\n",
    "        print(\"\\n🤝 It's a tie!\")\n",
    "    print(\"\\n 🤗🎮 Thanks for playing! See you next time!\\n\")\n",
    "\n",
    "\n",
    "# Menu loop\n",
    "while True:\n",
    "    print(\"\\n--- Emoji Riddle Game ---\")\n",
    "    print(\"1. Start the Emoji Riddle Game\")\n",
    "    print(\"2. Exit\")\n",
    "\n",
    "    choice = input(\"Choose an option (1 or 2): \").strip()\n",
    "\n",
    "    if choice == '1':\n",
    "        emoji_riddle_game()\n",
    "    elif choice == '2':\n",
    "        print(\"\\nGoodbye! 👋\")\n",
    "        break\n",
    "    else:\n",
    "        print(\"Invalid choice. Please enter 1 or 2\")\n"
   ]
  },
  {
   "cell_type": "code",
   "execution_count": null,
   "id": "20895de2-24aa-4411-a9d9-1e5243f76f10",
   "metadata": {},
   "outputs": [],
   "source": []
  },
  {
   "cell_type": "code",
   "execution_count": null,
   "id": "517250fc-2632-4579-8f94-872856a3f8fd",
   "metadata": {},
   "outputs": [],
   "source": []
  }
 ],
 "metadata": {
  "kernelspec": {
   "display_name": "Python [conda env:anaconda3] *",
   "language": "python",
   "name": "conda-env-anaconda3-py"
  },
  "language_info": {
   "codemirror_mode": {
    "name": "ipython",
    "version": 3
   },
   "file_extension": ".py",
   "mimetype": "text/x-python",
   "name": "python",
   "nbconvert_exporter": "python",
   "pygments_lexer": "ipython3",
   "version": "3.13.5"
  }
 },
 "nbformat": 4,
 "nbformat_minor": 5
}
